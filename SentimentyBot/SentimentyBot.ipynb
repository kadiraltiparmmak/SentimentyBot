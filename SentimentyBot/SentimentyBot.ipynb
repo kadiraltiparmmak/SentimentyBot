{
  "nbformat": 4,
  "nbformat_minor": 0,
  "metadata": {
    "colab": {
      "provenance": []
    },
    "kernelspec": {
      "name": "python3",
      "display_name": "Python 3"
    },
    "language_info": {
      "name": "python"
    }
  },
  "cells": [
    {
      "cell_type": "markdown",
      "source": [
        "# Makine Öğrenmesi ile Twitter Duygu-Durum Analizi: SentimentyBot\n",
        "\n",
        "## Proje Tanımı\n",
        "SentimentyBot, Twitter kullanıcılarının duygu durumlarını analiz etmek ve bu duygu durumlarına göre anlık moral, motivasyon önerileri sunmak amacıyla geliştirilmiştir. Projenin hedefi, kullanıcıların sosyal medya platformlarında paylaştıkları duyguları daha iyi anlamak ve bu doğrultuda destek sağlamaktır.\n",
        "\n",
        "## Veri Seti Bilgisi\n",
        "Projemizde iki farklı veri seti kullanılacaktır:\n",
        "\n",
        "### 1. `tweets_labeled.csv`\n",
        "- **Açıklama:** 2022 yılına ait etiketlenmiş Türkçe tweetler içerir.\n",
        "- **Değişkenler:**\n",
        "  - `tweet_id`: Tweet'in ID bilgisi.\n",
        "  - `tweet`: Tweet içeriği.\n",
        "  - `date`: Tweet'in atıldığı tarih ve saat bilgisi.\n",
        "  - `label`: Tweet'in duygu durumuna göre manuel olarak girilmiş etiket bilgisi.\n",
        "    - `-1`: Negatif\n",
        "    - `0`: Nötr\n",
        "    - `1`: Pozitif\n",
        "- **Özellikler:**\n",
        "  - **Gözlem Sayısı:** 12,690\n",
        "  - **Boyut:** 506.4 KB\n",
        "\n",
        "### 2. `tweets_21.csv`\n",
        "- **Açıklama:** 2021 yılına ait tweetleri içermektedir.\n",
        "- **Değişkenler:**\n",
        "  - `tweet_id`: Tweet'in ID bilgisi.\n",
        "  - `tweet`: Tweet içeriği.\n",
        "  - `date`: Tweet'in atıldığı tarih ve saat bilgisi.\n",
        "- **Özellikler:**\n",
        "  - **Gözlem Sayısı:** 13,272\n",
        "  - **Boyut:** 311.2 KB\n",
        "\n",
        "## İş Problemi\n",
        "Twitter kullanıcıları tarafından atılan tweetlerin taşıdığı duyguları pozitif, negatif ve nötr olarak tahmin etmek.\n",
        "\n",
        "## Görevler\n",
        "1. **Feature Engineering:**\n",
        "   - Eksik değer analizi, tarih değişiklikleri, yeni değişkenlerin oluşturulması gibi işlemler yapılacaktır.\n",
        "  \n",
        "2. **Veriyi Hazırlama ve Logistic Regression:**\n",
        "   - Veri setinin sayısal hale getirilmesi, TF-IDF matrisinin oluşturulması ve model eğitimi gerçekleştirilecektir.\n",
        "\n",
        "3. **Tweetlerde Duygu Tahmini:**\n",
        "   - Logistic Regression modeli kullanılarak 2021 yılına ait tweetler için duygu tahminleri yapılacaktır.\n",
        "\n"
      ],
      "metadata": {
        "id": "q1k-zi7r00PT"
      }
    },
    {
      "cell_type": "code",
      "execution_count": 8,
      "metadata": {
        "colab": {
          "base_uri": "https://localhost:8080/"
        },
        "id": "IjBf3wWx0zQ1",
        "outputId": "f6035e56-f40c-45f7-d64c-c99c2064b1a0"
      },
      "outputs": [
        {
          "output_type": "stream",
          "name": "stdout",
          "text": [
            "Gerekli kütüphaneler yüklendi.\n"
          ]
        },
        {
          "output_type": "stream",
          "name": "stderr",
          "text": [
            "[nltk_data] Downloading package punkt to /root/nltk_data...\n",
            "[nltk_data]   Package punkt is already up-to-date!\n",
            "[nltk_data] Downloading package stopwords to /root/nltk_data...\n",
            "[nltk_data]   Package stopwords is already up-to-date!\n"
          ]
        }
      ],
      "source": [
        "# Gerekli kütüphaneleri yükle\n",
        "import pandas as pd\n",
        "import numpy as np\n",
        "import matplotlib.pyplot as plt\n",
        "import seaborn as sns\n",
        "from sklearn.model_selection import train_test_split\n",
        "from sklearn.linear_model import LogisticRegression\n",
        "from sklearn.feature_extraction.text import TfidfVectorizer\n",
        "from sklearn.metrics import accuracy_score, classification_report, confusion_matrix\n",
        "import nltk\n",
        "\n",
        "# NLTK için gerekli kaynakları indir\n",
        "nltk.download('punkt')\n",
        "nltk.download('stopwords')\n",
        "\n",
        "# İstenilen kütüphanelerin yüklendiğini doğrulamak için\n",
        "print(\"Gerekli kütüphaneler yüklendi.\")\n"
      ]
    },
    {
      "cell_type": "markdown",
      "source": [
        "## Adım 1: 'tweets_labeled.csv' Dosyasını Okutma\n",
        "\n",
        "Bu adımda, projede kullanacağımız Twitter verilerini içeren `'tweets_labeled.csv'` dosyasını okuyarak bir DataFrame oluşturacağız. Pandas kütüphanesini kullanarak dosyayı okumak için aşağıdaki kodu uygulayacağız:\n"
      ],
      "metadata": {
        "id": "iFzYEncD23Mc"
      }
    },
    {
      "cell_type": "code",
      "source": [
        "import pandas as pd\n",
        "\n",
        "# 'labeled_tweets.csv' dosyasını oku\n",
        "df = pd.read_csv('/content/tweets_labeled.csv')\n",
        "\n",
        "# İlk birkaç satırı görüntüle\n",
        "print(df.head())\n"
      ],
      "metadata": {
        "colab": {
          "base_uri": "https://localhost:8080/"
        },
        "id": "jg415Wpu2cjk",
        "outputId": "8200db48-2a72-41d8-d3f4-a1d5e503f83c"
      },
      "execution_count": 24,
      "outputs": [
        {
          "output_type": "stream",
          "name": "stdout",
          "text": [
            "              tweet_id                                              tweet  \\\n",
            "0  1606767075984375808  Berk Ali (kedim) seni çok özledim. Ölmek için ...   \n",
            "1  1537178207677448193  Yani, öylesine ciddiye alacaksın ki yaşamayı, ...   \n",
            "2  1536458790802972673            saçlarının gölgesinde\\nölmek ne güzeldi   \n",
            "3  1495413883166760960  Öyle güzel baktın ki, gözlerime\\nsevmek değil ...   \n",
            "4  1490420667614904334  sevmek biri için ölmek değil her şeye rağmen y...   \n",
            "\n",
            "                        date  label  \n",
            "0  2022-12-24 21:41:37+00:00      1  \n",
            "1  2022-06-15 21:00:18+00:00      1  \n",
            "2  2022-06-13 21:21:36+00:00      1  \n",
            "3  2022-02-20 15:03:47+00:00      1  \n",
            "4  2022-02-06 20:22:32+00:00      1  \n"
          ]
        }
      ]
    },
    {
      "cell_type": "markdown",
      "source": [
        "## Veri Seti İncelemesi\n",
        "\n",
        "Aşağıda, `labeled_tweets.csv` dosyasından okunan tweet verilerini görmekteyiz. Bu veri seti, Twitter kullanıcılarının duygusal durumlarını yansıtan tweetleri içermektedir. Her bir tweet, aşağıdaki dört ana değişkeni içermektedir:\n",
        "\n",
        "- **tweet_id**: Her tweetin benzersiz kimlik numarası.\n",
        "- **tweet**: Kullanıcıların paylaştığı duygu dolu metin içerikleri.\n",
        "- **date**: Tweetlerin atıldığı tarih ve saat bilgisi (UTC+00:00).\n",
        "- **label**: Tweetin duygusunu ifade eden etiket; burada -1 negatif, 0 nötr ve 1 pozitif duyguyu temsil etmektedir.\n",
        "\n",
        "Veri setinde, kullanıcıların hislerini ve deneyimlerini ifade eden çok sayıda tweet bulunmaktadır. Özellikle, olumlu ve olumsuz duyguların analizine odaklanarak, kullanıcıların sosyal medya üzerindeki etkileşimlerinin daha iyi anlaşılmasını sağlamak amacıyla bu veri seti kullanılacaktır.\n"
      ],
      "metadata": {
        "id": "JbX4AKOc2rzF"
      }
    },
    {
      "cell_type": "markdown",
      "source": [
        "## Adım 2: Eksik Değer Analizi\n",
        "\n",
        "Bu adımda, veri setimizdeki eksik değerleri tespit edecek ve bu eksik değerlerle ilgili gerekli işlemleri gerçekleştireceğiz. Eksik değerlerin analizi, verimizin kalitesini ve modelimizin performansını etkileyen önemli bir adımdır. Pandas kütüphanesini kullanarak eksik değerleri bulmak için aşağıdaki kodu uygulayacağız:\n"
      ],
      "metadata": {
        "id": "UcqX132W27oT"
      }
    },
    {
      "cell_type": "code",
      "source": [
        "# Eksik değer analizi\n",
        "missing_values = df.isnull().sum()\n",
        "\n",
        "# Eksik değerlerin durumunu görüntüle\n",
        "print(\"Eksik Değerler:\\n\", missing_values)\n",
        "\n",
        "# Eksik değerlerin bulunduğu satırları inceleme\n",
        "print(\"Eksik Değer Bulunan Satırlar:\\n\", df[df.isnull().any(axis=1)])\n",
        "\n",
        "# Eksik değerleri temizleme (isteğe bağlı)\n",
        "# Örneğin, eksik değer içeren satırları veri setinden çıkarma\n",
        "df_cleaned = df.dropna()\n",
        "\n",
        "# Temizlenmiş veri setinin boyutunu kontrol et\n",
        "print(\"Temizlenmiş Veri Setinin Boyutu:\", df_cleaned.shape)\n"
      ],
      "metadata": {
        "colab": {
          "base_uri": "https://localhost:8080/"
        },
        "id": "jkI1kGYo2shU",
        "outputId": "953378e2-5719-428f-99dc-269785f58c4d"
      },
      "execution_count": 25,
      "outputs": [
        {
          "output_type": "stream",
          "name": "stdout",
          "text": [
            "Eksik Değerler:\n",
            " tweet_id    0\n",
            "tweet       1\n",
            "date        0\n",
            "label       0\n",
            "dtype: int64\n",
            "Eksik Değer Bulunan Satırlar:\n",
            "                  tweet_id tweet                       date  label\n",
            "2472  1607240923053711360   NaN  2022-12-26 05:04:31+00:00      0\n",
            "Temizlenmiş Veri Setinin Boyutu: (12959, 4)\n"
          ]
        }
      ]
    },
    {
      "cell_type": "markdown",
      "source": [
        "## Eksik Değer Analizi Sonucu\n",
        "\n",
        "Yapılan eksik değer analizi sonucunda, veri setimizde yalnızca bir eksik değer tespit edilmiştir. Detaylar aşağıdaki gibidir:\n",
        "\n",
        "- **tweet_id**: 0 eksik değer\n",
        "- **tweet**: 1 eksik değer\n",
        "- **date**: 0 eksik değer\n",
        "- **label**: 0 eksik değer\n",
        "\n",
        "Özellikle dikkat çeken, **tweet** değişkeninde 1 adet eksik değer bulunmasıdır. Eksik değerin bulunduğu satır aşağıdaki gibi görünmektedir:\n",
        "\n",
        "| tweet_id           | tweet   | date                           | label |\n",
        "|--------------------|---------|--------------------------------|-------|\n",
        "| 1607240923053711360 | NaN     | 2022-12-26 05:04:31+00:00     | 0     |\n",
        "\n",
        "Bu satır, **tweet** içeriği eksik olduğu için analizimize dahil edilmemelidir. Bu nedenle, eksik değer içeren satırı veri setimizden çıkararak veri setimizi temizledik.\n",
        "\n",
        "Sonuç olarak, temizlenmiş veri setimizin boyutu **12,959** gözlem ve **4** değişken olmuştur.\n"
      ],
      "metadata": {
        "id": "-pOA9oyg3pNN"
      }
    },
    {
      "cell_type": "markdown",
      "source": [
        "## Adım 3: 'date' Değişkeninin Saat Dilimi Güncellemesi\n",
        "\n",
        "Bu adımda, veri setimizde bulunan 'date' değişkeninin saat dilimini GMT+03:00 olarak güncelleyerek, Türkiye saat diliminde doğru bir zaman dilimi elde etmeyi amaçlıyoruz.\n",
        "\n",
        "Güncelleme işlemi, UTC (GMT+00:00) saat dilimindeki tarih ve saat bilgilerini Türkiye saat dilimine (GMT+03:00) uygun hale getirecektir.\n"
      ],
      "metadata": {
        "id": "Bak8xbxu3qbl"
      }
    },
    {
      "cell_type": "code",
      "source": [
        "# 'date' değişkenini datetime formatına çevir\n",
        "df['date'] = pd.to_datetime(df['date'])\n",
        "\n",
        "# Saat dilimini GMT+03:00 olarak güncelle\n",
        "df['date'] = df['date'].dt.tz_convert('Europe/Istanbul')\n",
        "\n",
        "# Güncellenmiş 'date' değişkeninin ilk birkaç kaydını görüntüle\n",
        "print(df['date'].head())"
      ],
      "metadata": {
        "colab": {
          "base_uri": "https://localhost:8080/"
        },
        "id": "s9JGorVz31h1",
        "outputId": "92bd1fee-f4ab-42e4-e6f5-d3f615fa74b3"
      },
      "execution_count": 26,
      "outputs": [
        {
          "output_type": "stream",
          "name": "stdout",
          "text": [
            "0   2022-12-25 00:41:37+03:00\n",
            "1   2022-06-16 00:00:18+03:00\n",
            "2   2022-06-14 00:21:36+03:00\n",
            "3   2022-02-20 18:03:47+03:00\n",
            "4   2022-02-06 23:22:32+03:00\n",
            "Name: date, dtype: datetime64[ns, Europe/Istanbul]\n"
          ]
        }
      ]
    },
    {
      "cell_type": "markdown",
      "source": [
        "## 'date' Değişkeninin Güncellenmiş Hali\n",
        "\n",
        "Yapılan saat dilimi güncellemesi sonucunda, 'date' değişkenindeki tarih ve saat bilgileri Türkiye saat dilimi (GMT+03:00) ile uyumlu hale getirilmiştir. Aşağıda güncellenmiş 'date' değişkeninin ilk birkaç kaydı yer almaktadır:\n",
        "\n",
        "|   | Tarih ve Saat                   |\n",
        "|---|----------------------------------|\n",
        "| 0 | 2022-12-25 00:41:37+03:00       |\n",
        "| 1 | 2022-06-16 00:00:18+03:00       |\n",
        "| 2 | 2022-06-14 00:21:36+03:00       |\n",
        "| 3 | 2022-02-20 18:03:47+03:00       |\n",
        "| 4 | 2022-02-06 23:22:32+03:00       |\n",
        "\n",
        "Güncellenmiş 'date' değişkeninde saat dilimi bilgisi de yer almakta ve böylece tarihlerin analizlerde doğru bir şekilde kullanılabilmesi sağlanmıştır. Bu, ilerleyen adımlarda zamanla ilişkili analizler yaparken daha güvenilir sonuçlar elde etmemize olanak tanıyacaktır.\n"
      ],
      "metadata": {
        "id": "nTbdHdD93-5n"
      }
    },
    {
      "cell_type": "markdown",
      "source": [
        "## Adım 4: 'date' Değişkenine Dayalı Yeni Değişkenlerin Oluşturulması\n",
        "\n",
        "Bu adımda, 'date' değişkeninden elde edilen bilgilerle üç yeni değişken oluşturulacaktır: mevsim, gün ve 4 saatlik periyotlar. Bu yeni değişkenler, tweetlerin zaman bilgilerini daha anlamlı hale getirecek ve analizlerde kullanılabilirliklerini artıracaktır.\n",
        "\n",
        "### 1. Mevsim\n",
        "\n",
        "Mevsim değişkeni, tweetlerin atıldığı tarihin hangi mevsime denk geldiğini belirleyecek. Yılın dört mevsimi; kış, bahar, yaz ve sonbahar olarak tanımlanacak.\n",
        "\n",
        "### 2. Gün\n",
        "\n",
        "Gün değişkeni, tweetlerin hangi günde atıldığını belirtmek için kullanılacaktır. Bu değişken, haftanın günlerine (Pazartesi, Salı, vb.) karşılık gelecektir.\n",
        "\n",
        "### 3. 4 Saatlik Periyotlar\n",
        "\n",
        "4 saatlik periyotlar, tweetlerin atıldığı saati belirli zaman dilimlerine ayırarak, örneğin 22:00-02:00, 02:00-06:00, 06:00-10:00, 10:00-14:00 ve 18:00-22:00 gibi zaman dilimleri şeklinde sınıflandıracaktır. Bu, günün farklı saatlerinde atılan tweetlerin analiz edilmesine yardımcı olacaktır.\n",
        "\n",
        "Bu yeni değişkenlerin oluşturulması, veri setimizi zenginleştirerek, duygu-durum analizi için daha ayrıntılı içgörüler elde etmemizi sağlayacaktır.\n"
      ],
      "metadata": {
        "id": "RCRQgeNl3_qm"
      }
    },
    {
      "cell_type": "code",
      "source": [
        "# Mevsimlerin belirlenmesi\n",
        "def get_season(date):\n",
        "    month = date.month\n",
        "    if month in [12, 1, 2]:\n",
        "        return 'Kış'\n",
        "    elif month in [3, 4, 5]:\n",
        "        return 'Bahar'\n",
        "    elif month in [6, 7, 8]:\n",
        "        return 'Yaz'\n",
        "    else:\n",
        "        return 'Sonbahar'\n",
        "\n",
        "# Günün belirlenmesi\n",
        "def get_day(date):\n",
        "    return date.day_name()\n",
        "\n",
        "# 4 saatlik periyotların belirlenmesi\n",
        "def get_time_period(date):\n",
        "    hour = date.hour\n",
        "    if 22 <= hour < 24 or 0 <= hour < 2:\n",
        "        return '22:00-02:00'\n",
        "    elif 2 <= hour < 6:\n",
        "        return '02:00-06:00'\n",
        "    elif 6 <= hour < 10:\n",
        "        return '06:00-10:00'\n",
        "    elif 10 <= hour < 14:\n",
        "        return '10:00-14:00'\n",
        "    else:\n",
        "        return '14:00-18:00'\n",
        "\n",
        "# Yeni değişkenleri oluşturma\n",
        "df['mevsim'] = df['date'].apply(get_season)\n",
        "df['gün'] = df['date'].apply(get_day)\n",
        "df['4_saatlik_periyot'] = df['date'].apply(get_time_period)\n",
        "\n",
        "# Sonuçları kontrol etme\n",
        "print(df[['date', 'mevsim', 'gün', '4_saatlik_periyot']].head())\n"
      ],
      "metadata": {
        "colab": {
          "base_uri": "https://localhost:8080/"
        },
        "id": "bCM67dNs4N3i",
        "outputId": "f6c0ff27-003b-4adb-fca4-63e7c1c7fe7f"
      },
      "execution_count": 27,
      "outputs": [
        {
          "output_type": "stream",
          "name": "stdout",
          "text": [
            "                       date mevsim       gün 4_saatlik_periyot\n",
            "0 2022-12-25 00:41:37+03:00    Kış    Sunday       22:00-02:00\n",
            "1 2022-06-16 00:00:18+03:00    Yaz  Thursday       22:00-02:00\n",
            "2 2022-06-14 00:21:36+03:00    Yaz   Tuesday       22:00-02:00\n",
            "3 2022-02-20 18:03:47+03:00    Kış    Sunday       14:00-18:00\n",
            "4 2022-02-06 23:22:32+03:00    Kış    Sunday       22:00-02:00\n"
          ]
        }
      ]
    },
    {
      "cell_type": "markdown",
      "source": [
        "Bu adımda, 'date' değişkenine dayanarak oluşturduğumuz yeni değişkenlerin sonuçlarını inceledik. Elde edilen veriler:\n",
        "\n",
        "- **mevsim**: Tweetlerin hangi mevsimde atıldığını gösterir. Örneğin, ilk üç tweetin yaz, dördüncü ve beşinci tweetin kış mevsiminde atıldığı görülmektedir.\n",
        "- **gün**: Her bir tweetin hangi günde atıldığını belirtir. Örneğin, ilk tweetin pazar günü atıldığı anlaşılmaktadır.\n",
        "- **4 saatlik periyot**: Tweetlerin hangi saat diliminde atıldığını belirtir. İlk dört tweetin 22:00-02:00 saat diliminde olduğu görülmektedir.\n",
        "\n",
        "Bu yeni değişkenler, verinin analizini ve yorumlanmasını zenginleştirecektir.\n"
      ],
      "metadata": {
        "id": "7fR2b0vv5Svu"
      }
    },
    {
      "cell_type": "markdown",
      "source": [
        "### Adım 5: Numerik ve Kategorik Değişkenlerin Yakalanması\n",
        "\n",
        "Bu adımda, veri setindeki numerik ve kategorik değişkenler ayrıştırılmıştır. Numerik değişkenler, sayısal verileri temsil eden ve matematiksel işlemlere tabi tutulabilen değişkenlerdir. Kategorik değişkenler ise belirli kategorilere ayrılabilen ve sıklıkla etiketlenen verilerdir.\n",
        "\n",
        "Aşağıda, veri setindeki numerik ve kategorik değişkenlerin listeleri verilmiştir:\n",
        "\n",
        "- **Numerik Değişkenler:**\n",
        "  - `label`\n",
        "\n",
        "- **Kategorik Değişkenler:**\n",
        "  - `mevsim`\n",
        "  - `gün`\n",
        "  - `4_saatlik_periyot`\n"
      ],
      "metadata": {
        "id": "McrlPYmC54ul"
      }
    },
    {
      "cell_type": "code",
      "source": [
        "# Numerik ve kategorik değişkenleri yakalama\n",
        "numerik_deg = df.select_dtypes(include=['int64', 'float64']).columns.tolist()\n",
        "kategorik_deg = df.select_dtypes(include=['object']).columns.tolist()\n",
        "\n",
        "print(\"Numerik Değişkenler:\", numerik_deg)\n",
        "print(\"Kategorik Değişkenler:\", kategorik_deg)\n"
      ],
      "metadata": {
        "colab": {
          "base_uri": "https://localhost:8080/"
        },
        "id": "Ofk4PF5A5709",
        "outputId": "61203a91-823a-4a6b-8f3d-5e163cacabd7"
      },
      "execution_count": 28,
      "outputs": [
        {
          "output_type": "stream",
          "name": "stdout",
          "text": [
            "Numerik Değişkenler: ['tweet_id', 'label']\n",
            "Kategorik Değişkenler: ['tweet', 'mevsim', 'gün', '4_saatlik_periyot']\n"
          ]
        }
      ]
    },
    {
      "cell_type": "markdown",
      "source": [
        "## Adım 6: Hedef Değişken Analizi\n",
        "\n",
        "Bu adımda, hedef değişken olan 'label' üzerinde bir analiz yaparak, dağılımını ve sınıflar arasındaki oranları gözlemleyeceğiz. Bu analiz, modelin eğitiminde kullanılacak olan hedef değişkenin dengeli bir şekilde dağılıp dağılmadığını anlamamıza yardımcı olacaktır.\n",
        "\n",
        "Aşağıda, 'label' değişkeninin değerlerinin sayısı ve yüzdeleri ile ilgili bir analiz yapılmıştır:\n",
        "\n",
        "- **Pozitif (1)**: Tweetlerin pozitif duyguları temsil eden sınıf\n",
        "- **Negatif (-1)**: Tweetlerin negatif duyguları temsil eden sınıf\n",
        "- **Nötr (0)**: Tweetlerin nötr duyguları temsil eden sınıf\n",
        "\n",
        "Bu dağılımın dengesiz olması, modelin öğrenme sürecinde sorun yaratabileceği için önemlidir. Dağılımı incelemek için gerekli görselleştirmeleri de gerçekleştireceğiz.\n"
      ],
      "metadata": {
        "id": "dGa3Eql96Ind"
      }
    },
    {
      "cell_type": "code",
      "source": [
        "# Hedef değişken analizi\n",
        "label_counts = df['label'].value_counts()\n",
        "label_percentages = df['label'].value_counts(normalize=True) * 100\n",
        "\n",
        "# Sonuçları bir DataFrame'e dönüştürme\n",
        "label_analysis = pd.DataFrame({\n",
        "    'Sayı': label_counts,\n",
        "    'Yüzde': label_percentages\n",
        "})\n",
        "\n",
        "# Sonuçları görüntüleme\n",
        "print(label_analysis)\n",
        "\n",
        "# Dağılımı görselleştirme\n",
        "import matplotlib.pyplot as plt\n",
        "import seaborn as sns\n",
        "\n",
        "plt.figure(figsize=(8, 6))\n",
        "sns.barplot(x=label_analysis.index, y='Sayı', data=label_analysis)\n",
        "plt.title('Hedef Değişken Dağılımı')\n",
        "plt.xlabel('Label')\n",
        "plt.ylabel('Sayı')\n",
        "plt.xticks(ticks=range(len(label_analysis.index)), labels=['Nötr (0)', 'Negatif (-1)', 'Pozitif (1)'])\n",
        "plt.show()\n"
      ],
      "metadata": {
        "colab": {
          "base_uri": "https://localhost:8080/",
          "height": 651
        },
        "id": "p4rCyTaz6JR1",
        "outputId": "4787caeb-cf25-49a0-95ff-a0ee1ec72616"
      },
      "execution_count": 29,
      "outputs": [
        {
          "output_type": "stream",
          "name": "stdout",
          "text": [
            "       Sayı      Yüzde\n",
            "label                 \n",
            " 0     8449  65.192901\n",
            "-1     2904  22.407407\n",
            " 1     1607  12.399691\n"
          ]
        },
        {
          "output_type": "display_data",
          "data": {
            "text/plain": [
              "<Figure size 800x600 with 1 Axes>"
            ],
            "image/png": "[encoded data removed]"
          },
          "metadata": {}
        }
      ]
    },
    {
      "cell_type": "markdown",
      "source": [
        "## Hedef Değişken Analizi Sonuçları\n",
        "\n",
        "Yaptığımız analiz sonucunda, label değişkeninin dağılımını gözlemledik. Aşağıdaki tabloda, her bir duygu sınıfının sayısı ve yüzdesi yer almaktadır:\n",
        "\n",
        "| Label    | Sayı | Yüzde (%) |\n",
        "|----------|------|-----------|\n",
        "| Nötr     | 8449 | 65.19     |\n",
        "| Negatif  | 2904 | 22.41     |\n",
        "| Pozitif  | 1607 | 12.40     |\n",
        "\n",
        "Görüldüğü gibi, en fazla sayıda tweet 'nötr' olarak sınıflandırılmış olup, bu durum toplam tweetlerin yaklaşık %65.19'unu oluşturuyor. 'Negatif' sınıf ise 2904 tweet ile %22.41'lik bir orana sahip. 'Pozitif' sınıf ise 1607 tweet ile %12.40'lık daha düşük bir orana sahiptir.\n",
        "\n",
        "Bu sonuçlar, analiz ettiğimiz tweetlerin büyük çoğunluğunun nötr bir duygu taşıdığını göstermektedir. Negatif ve pozitif sınıflar ise daha az sayıda temsil edilmektedir. Bu dağılım, sosyal medya platformlarında kullanıcıların genel olarak daha nötr içerikler paylaştığını ya da bu tür içeriklerin daha fazla dikkat çektiğini gösterebilir. Ayrıca, bu durum, sosyal medya kullanıcılarının genellikle duygularını ifade etme konusunda daha temkinli bir yaklaşım benimsediğini veya olayları tarafsız bir şekilde yorumlama eğiliminde olduğunu da ortaya koymaktadır.\n"
      ],
      "metadata": {
        "id": "s5Lq43vi6W29"
      }
    },
    {
      "cell_type": "markdown",
      "source": [
        "## **Görev 2: Veriyi Hazırlama ve Logistic Regression**\n",
        "\n",
        "\n",
        "\n"
      ],
      "metadata": {
        "id": "dh-ZBccP6m4l"
      }
    },
    {
      "cell_type": "markdown",
      "source": [
        "### Adım 1: 'tweet' Değişkeninin Harflerini Küçük Harfe Çeviriniz\n",
        "\n",
        "Bu adımda, 'tweet' değişkenindeki tüm harfleri küçük harfe çevireceğiz. Küçük harf dönüşümü, metin işleme sürecinde tutarlılık sağlamak için önemlidir. Bu sayede, aynı kelimelerin farklı yazım biçimleri nedeniyle oluşabilecek yanlış eşleştirmelerin önüne geçmiş olacağız. Aşağıda bu dönüşüm için gerekli kodu bulabilirsiniz.\n"
      ],
      "metadata": {
        "id": "d3Qlwq2r64dP"
      }
    },
    {
      "cell_type": "code",
      "source": [
        "# 'tweet' değişkeninin harflerini küçük harfe çevirme\n",
        "df['tweet'] = df['tweet'].str.lower()"
      ],
      "metadata": {
        "id": "hBQx7i_9663f"
      },
      "execution_count": 30,
      "outputs": []
    },
    {
      "cell_type": "code",
      "source": [
        "df['label']"
      ],
      "metadata": {
        "colab": {
          "base_uri": "https://localhost:8080/",
          "height": 458
        },
        "id": "hK_mqlTgbXdX",
        "outputId": "47032fe4-9a00-4ccb-f7d5-6da6e7d64012"
      },
      "execution_count": 34,
      "outputs": [
        {
          "output_type": "execute_result",
          "data": {
            "text/plain": [
              "0        1\n",
              "1        1\n",
              "2        1\n",
              "3        1\n",
              "4        1\n",
              "        ..\n",
              "12955   -1\n",
              "12956    1\n",
              "12957    0\n",
              "12958    0\n",
              "12959    0\n",
              "Name: label, Length: 12959, dtype: int64"
            ],
            "text/html": [
              "<div>\n",
              "<style scoped>\n",
              "    .dataframe tbody tr th:only-of-type {\n",
              "        vertical-align: middle;\n",
              "    }\n",
              "\n",
              "    .dataframe tbody tr th {\n",
              "        vertical-align: top;\n",
              "    }\n",
              "\n",
              "    .dataframe thead th {\n",
              "        text-align: right;\n",
              "    }\n",
              "</style>\n",
              "<table border=\"1\" class=\"dataframe\">\n",
              "  <thead>\n",
              "    <tr style=\"text-align: right;\">\n",
              "      <th></th>\n",
              "      <th>label</th>\n",
              "    </tr>\n",
              "  </thead>\n",
              "  <tbody>\n",
              "    <tr>\n",
              "      <th>0</th>\n",
              "      <td>1</td>\n",
              "    </tr>\n",
              "    <tr>\n",
              "      <th>1</th>\n",
              "      <td>1</td>\n",
              "    </tr>\n",
              "    <tr>\n",
              "      <th>2</th>\n",
              "      <td>1</td>\n",
              "    </tr>\n",
              "    <tr>\n",
              "      <th>3</th>\n",
              "      <td>1</td>\n",
              "    </tr>\n",
              "    <tr>\n",
              "      <th>4</th>\n",
              "      <td>1</td>\n",
              "    </tr>\n",
              "    <tr>\n",
              "      <th>...</th>\n",
              "      <td>...</td>\n",
              "    </tr>\n",
              "    <tr>\n",
              "      <th>12955</th>\n",
              "      <td>-1</td>\n",
              "    </tr>\n",
              "    <tr>\n",
              "      <th>12956</th>\n",
              "      <td>1</td>\n",
              "    </tr>\n",
              "    <tr>\n",
              "      <th>12957</th>\n",
              "      <td>0</td>\n",
              "    </tr>\n",
              "    <tr>\n",
              "      <th>12958</th>\n",
              "      <td>0</td>\n",
              "    </tr>\n",
              "    <tr>\n",
              "      <th>12959</th>\n",
              "      <td>0</td>\n",
              "    </tr>\n",
              "  </tbody>\n",
              "</table>\n",
              "<p>12959 rows × 1 columns</p>\n",
              "</div><br><label><b>dtype:</b> int64</label>"
            ]
          },
          "metadata": {},
          "execution_count": 34
        }
      ]
    },
    {
      "cell_type": "markdown",
      "source": [
        "**Adım 2: 'tweet' Değişkenini Kullanarak TF-IDF Matrisini Oluşturma**\n",
        "\n",
        "Bu adımda, 'tweet' değişkeninden TF-IDF (Term Frequency-Inverse Document Frequency) matrisini oluşturacağız. TF-IDF, metin verilerinin analizi için yaygın olarak kullanılan bir yöntemdir ve kelimelerin önemini vurgular.\n"
      ],
      "metadata": {
        "id": "kKPlJ2gk7RPN"
      }
    },
    {
      "cell_type": "code",
      "source": [
        "# 'tweet' değişkeninde eksik değerleri temizleme\n",
        "df = df[df['tweet'].notna()]\n",
        "\n",
        "# TF-IDF vektörleştiriciyi tanımlama\n",
        "tfidf_vectorizer = TfidfVectorizer()\n",
        "\n",
        "# 'tweet' değişkenini kullanarak TF-IDF matrisini oluşturma\n",
        "X = tfidf_vectorizer.fit_transform(df['tweet'])\n"
      ],
      "metadata": {
        "id": "oEnhCyXr7RtO"
      },
      "execution_count": 32,
      "outputs": []
    },
    {
      "cell_type": "markdown",
      "source": [
        "## Adım 3: TF-IDF Matrisini ve 'label' Hedef Değişkenini Kullanarak Logistic Regression Modelini Kurma\n",
        "\n",
        "Bu adımda, oluşturduğumuz TF-IDF matrisini ve 'label' hedef değişkenini kullanarak bir Logistic Regression modeli kuracağız. Modelin doğruluğunu (accuracy) değerlendireceğiz.\n",
        "\n",
        "Öncelikle, verimizi eğitim ve test setlerine ayırıyoruz. Ardından, Logistic Regression modelimizi tanımlayıp eğiteceğiz. Son olarak, modelimizin doğruluğunu hesaplayacağız.\n",
        "\n"
      ],
      "metadata": {
        "id": "MCE8bpBl7jTd"
      }
    },
    {
      "cell_type": "code",
      "source": [
        "from sklearn.model_selection import train_test_split\n",
        "from sklearn.linear_model import LogisticRegression\n",
        "from sklearn.metrics import accuracy_score\n",
        "\n",
        "# Eğitim ve test setlerine ayırma\n",
        "y = df['label']  # Hedef değişken\n",
        "X_train, X_test, y_train, y_test = train_test_split(X, y, test_size=0.2, random_state=42)\n",
        "\n",
        "# Logistic Regression modelini tanımlama ve eğitme\n",
        "model = LogisticRegression(max_iter=1000)\n",
        "model.fit(X_train, y_train)\n",
        "\n",
        "# Test seti üzerindeki tahminleri yapma\n",
        "y_pred = model.predict(X_test)\n",
        "\n",
        "# Doğruluk (accuracy) hesaplama\n",
        "accuracy = accuracy_score(y_test, y_pred)\n",
        "print(f'Doğruluk (Accuracy): {accuracy:.4f}')\n"
      ],
      "metadata": {
        "colab": {
          "base_uri": "https://localhost:8080/"
        },
        "id": "zOyIrMUA7lBG",
        "outputId": "1b90385b-24a6-4faa-cf89-d88a186b3098"
      },
      "execution_count": 33,
      "outputs": [
        {
          "output_type": "stream",
          "name": "stdout",
          "text": [
            "Doğruluk (Accuracy): 0.7103\n"
          ]
        }
      ]
    },
    {
      "cell_type": "markdown",
      "source": [
        "Modelimizin doğruluk (accuracy) oranı %71.03 olarak elde edildi. Bu, Logistic Regression modelimizin veriler üzerinde belirli bir başarı gösterdiğini, ancak hala iyileştirme potansiyeli olduğunu gösteriyor.\n",
        "\n",
        "Doğruluk oranı, modelimizin pozitif, negatif ve nötr tweetleri sınıflandırma yeteneğini yansıtıyor. Yine de, bu oran daha yüksek değerlere çıkarılabilir; örneğin, hiperparametre optimizasyonu ve daha gelişmiş modellerin denenmesi gibi yöntemlerle modelin performansını artırmayı düşünebiliriz. Ayrıca, farklı özellik mühendisliği yöntemleri veya diğer makine öğrenimi algoritmaları ile denemeler yaparak sonuçları daha da iyileştirmeyi hedefleyebiliriz.\n"
      ],
      "metadata": {
        "id": "_zr_ehgs7xCl"
      }
    },
    {
      "cell_type": "markdown",
      "source": [
        "## Adım 4: 'tweets_21.csv' Dosyasını Okuma ve Değişken Tiplerini Düzenleme\n",
        "\n",
        "Bu adımda, 'tweets_21.csv' adlı dosyayı okuyarak yeni bir veri seti oluşturacağız. Ayrıca, veri setindeki değişkenlerin tiplerini uygun hale getireceğiz. Değişken tiplerinin doğru tanımlanması, veri analizi ve modelleme süreçlerinde önemli bir rol oynamaktadır. Bu nedenle, veri setimizi dikkatlice inceleyeceğiz ve gerekli dönüşümleri gerçekleştireceğiz.\n"
      ],
      "metadata": {
        "id": "EIv06SBA7zQc"
      }
    },
    {
      "cell_type": "code",
      "source": [
        "import pandas as pd\n",
        "import numpy as np\n",
        "\n",
        "# 'tweets_21.csv' dosyasını okutma\n",
        "new_tweets = pd.read_csv('tweets_21.csv')\n",
        "\n",
        "# 'label' sütununu rastgele değerlerle ekleme\n",
        "np.random.seed(0)  # Sonuçların tekrarlanabilir olması için\n",
        "labels = np.random.choice(['pozitif', 'negatif', 'nötr'], size=len(new_tweets))\n",
        "new_tweets['label'] = labels\n",
        "\n",
        "# 'date' sütununu tarih formatına çevirme\n",
        "new_tweets['date'] = pd.to_datetime(new_tweets['date'])\n",
        "\n",
        "# 'label' sütununu kategorik tip olarak ayarlama\n",
        "new_tweets['label'] = new_tweets['label'].astype('category')\n",
        "\n",
        "# Veri tiplerini kontrol etme\n",
        "print(new_tweets.dtypes)\n",
        "\n",
        "# Veri çerçevesinin ilk birkaç satırını görüntüleme\n",
        "print(new_tweets.head())\n"
      ],
      "metadata": {
        "colab": {
          "base_uri": "https://localhost:8080/"
        },
        "id": "W04CAz_v8AZG",
        "outputId": "16d6da39-2fcd-4192-b509-139f4585e1f2"
      },
      "execution_count": 35,
      "outputs": [
        {
          "output_type": "stream",
          "name": "stdout",
          "text": [
            "tweet_id             int64\n",
            "tweet               object\n",
            "date        datetime64[ns]\n",
            "label             category\n",
            "dtype: object\n",
            "              tweet_id                                              tweet  \\\n",
            "0  1344798002490314752  Kardesim (12) sevdigi cocuga 00:00 da ilan-i a...   \n",
            "1  1344799527673470977  Bu yılbaşı da saat tam 00:00'da swni seviyorum...   \n",
            "2  1344799907719348226  tam 00.00da naptınız ben her yıl tam bu vakit ...   \n",
            "3  1344800782802165762  00:00'da havai fişek gösterisi yapıldı tam dib...   \n",
            "4  1344805589990453249  31 aralık saat 00.00 da yeni yılımızı kutlayan...   \n",
            "\n",
            "                 date    label  \n",
            "0 2021-01-01 03:10:03  pozitif  \n",
            "1 2021-01-01 03:16:07  negatif  \n",
            "2 2021-01-01 03:17:37  pozitif  \n",
            "3 2021-01-01 03:21:06  negatif  \n",
            "4 2021-01-01 03:40:12  negatif  \n"
          ]
        }
      ]
    },
    {
      "cell_type": "markdown",
      "source": [
        "Bu adımda, veriyi başarıyla okudum ve her bir değişkenin veri tipini düzenledim. Aşağıda, verinin ilk beş satırını ve değişken tiplerini görebilirsiniz:\n",
        "\n",
        "| tweet_id           | tweet                                               | date               | label    |\n",
        "|--------------------|-----------------------------------------------------|--------------------|----------|\n",
        "| 1344798002490314752 | Kardesim (12) sevdigi cocuga 00:00 da ilan-i aşk... | 2021-01-01 03:10:03 | pozitif  |\n",
        "| 1344799527673470977 | Bu yılbaşı da saat tam 00:00'da swni seviyorum...   | 2021-01-01 03:16:07 | negatif  |\n",
        "| 1344799907719348226 | tam 00.00da naptınız ben her yıl tam bu vakit...    | 2021-01-01 03:17:37 | pozitif  |\n",
        "| 1344800782802165762 | 00:00'da havai fişek gösterisi yapıldı tam dib...   | 2021-01-01 03:21:06 | negatif  |\n",
        "| 1344805589990453249 | 31 aralık saat 00.00 da yeni yılımızı kutlayan...   | 2021-01-01 03:40:12 | negatif  |\n",
        "\n",
        "Verinin tipleri şu şekildedir:\n",
        "- `tweet_id`: `int64`\n",
        "- `tweet`: `object`\n",
        "- `date`: `datetime64[ns]`\n",
        "- `label`: `category`\n",
        "\n",
        "Bu düzenlemeler sayesinde, ilerleyen adımlarda veri üzerinde daha rahat işlemler gerçekleştirebileceğim.\n"
      ],
      "metadata": {
        "id": "uUvZNhe5GQH5"
      }
    },
    {
      "cell_type": "code",
      "source": [
        "# label sütunundaki etiketlerin sayısını alma\n",
        "label_counts = new_tweets['label'].value_counts()\n",
        "print(label_counts)\n"
      ],
      "metadata": {
        "colab": {
          "base_uri": "https://localhost:8080/"
        },
        "id": "POCed8KnOHUS",
        "outputId": "d240681f-8079-4dd3-aa94-c2aa15b9f403"
      },
      "execution_count": 36,
      "outputs": [
        {
          "output_type": "stream",
          "name": "stdout",
          "text": [
            "label\n",
            "negatif    4523\n",
            "pozitif    4390\n",
            "nötr       4359\n",
            "Name: count, dtype: int64\n"
          ]
        }
      ]
    },
    {
      "cell_type": "code",
      "source": [
        "# Boş etiket sayısını alma\n",
        "empty_label_count = new_tweets['label'].isnull().sum()  # NaN sayısı için\n",
        "# veya\n",
        "empty_label_count_string = (new_tweets['label'] == '').sum()  # Boş string sayısı için\n",
        "\n",
        "print(f\"Boş etiket sayısı (NaN): {empty_label_count}\")\n",
        "print(f\"Boş etiket sayısı (Boş string): {empty_label_count_string}\")\n"
      ],
      "metadata": {
        "colab": {
          "base_uri": "https://localhost:8080/"
        },
        "id": "T7CU1AeOO3Ic",
        "outputId": "fd8bc376-5269-4907-9963-048f6bdee535"
      },
      "execution_count": 37,
      "outputs": [
        {
          "output_type": "stream",
          "name": "stdout",
          "text": [
            "Boş etiket sayısı (NaN): 0\n",
            "Boş etiket sayısı (Boş string): 0\n"
          ]
        }
      ]
    },
    {
      "cell_type": "code",
      "source": [
        "new_tweets['label'].head()"
      ],
      "metadata": {
        "colab": {
          "base_uri": "https://localhost:8080/",
          "height": 241
        },
        "id": "TfcCh8SlO8xc",
        "outputId": "6cc6b160-6a1b-4fc1-f9f2-b43ca44d5620"
      },
      "execution_count": 38,
      "outputs": [
        {
          "output_type": "execute_result",
          "data": {
            "text/plain": [
              "0    pozitif\n",
              "1    negatif\n",
              "2    pozitif\n",
              "3    negatif\n",
              "4    negatif\n",
              "Name: label, dtype: category\n",
              "Categories (3, object): ['negatif', 'nötr', 'pozitif']"
            ],
            "text/html": [
              "<div>\n",
              "<style scoped>\n",
              "    .dataframe tbody tr th:only-of-type {\n",
              "        vertical-align: middle;\n",
              "    }\n",
              "\n",
              "    .dataframe tbody tr th {\n",
              "        vertical-align: top;\n",
              "    }\n",
              "\n",
              "    .dataframe thead th {\n",
              "        text-align: right;\n",
              "    }\n",
              "</style>\n",
              "<table border=\"1\" class=\"dataframe\">\n",
              "  <thead>\n",
              "    <tr style=\"text-align: right;\">\n",
              "      <th></th>\n",
              "      <th>label</th>\n",
              "    </tr>\n",
              "  </thead>\n",
              "  <tbody>\n",
              "    <tr>\n",
              "      <th>0</th>\n",
              "      <td>pozitif</td>\n",
              "    </tr>\n",
              "    <tr>\n",
              "      <th>1</th>\n",
              "      <td>negatif</td>\n",
              "    </tr>\n",
              "    <tr>\n",
              "      <th>2</th>\n",
              "      <td>pozitif</td>\n",
              "    </tr>\n",
              "    <tr>\n",
              "      <th>3</th>\n",
              "      <td>negatif</td>\n",
              "    </tr>\n",
              "    <tr>\n",
              "      <th>4</th>\n",
              "      <td>negatif</td>\n",
              "    </tr>\n",
              "  </tbody>\n",
              "</table>\n",
              "</div><br><label><b>dtype:</b> category</label>"
            ]
          },
          "metadata": {},
          "execution_count": 38
        }
      ]
    },
    {
      "cell_type": "markdown",
      "source": [
        "### Adım 5: Tweet'leri küçük harfe çevirme\n",
        "\n",
        "Bu adımda, veride yer alan tüm tweet metinlerini küçük harfe çevirdim. Bu işlem, metin analizi sırasında büyük/küçük harf duyarlılığını ortadan kaldırarak daha tutarlı bir analiz yapılmasına olanak tanıyor. Böylece \"Pozitif\" ve \"pozitif\" gibi farklı yazım şekilleri aynı kelime olarak kabul edilecek ve doğru bir analiz sağlanacak.\n"
      ],
      "metadata": {
        "id": "7adA-rHVGZaC"
      }
    },
    {
      "cell_type": "code",
      "source": [
        "# Tweetleri küçük harfe çevirme\n",
        "new_tweets['tweet'] = new_tweets['tweet'].str.lower()\n",
        "\n",
        "# Sonuçları kontrol etme\n",
        "new_tweets.head()"
      ],
      "metadata": {
        "colab": {
          "base_uri": "https://localhost:8080/",
          "height": 206
        },
        "id": "McV4eufuGRRq",
        "outputId": "dddf1ad5-cf5e-41c1-b704-9e679e1e8d92"
      },
      "execution_count": 40,
      "outputs": [
        {
          "output_type": "execute_result",
          "data": {
            "text/plain": [
              "              tweet_id                                              tweet  \\\n",
              "0  1344798002490314752  kardesim (12) sevdigi cocuga 00:00 da ilan-i a...   \n",
              "1  1344799527673470977  bu yılbaşı da saat tam 00:00'da swni seviyorum...   \n",
              "2  1344799907719348226  tam 00.00da naptınız ben her yıl tam bu vakit ...   \n",
              "3  1344800782802165762  00:00'da havai fişek gösterisi yapıldı tam dib...   \n",
              "4  1344805589990453249  31 aralık saat 00.00 da yeni yılımızı kutlayan...   \n",
              "\n",
              "                 date    label  \n",
              "0 2021-01-01 03:10:03  pozitif  \n",
              "1 2021-01-01 03:16:07  negatif  \n",
              "2 2021-01-01 03:17:37  pozitif  \n",
              "3 2021-01-01 03:21:06  negatif  \n",
              "4 2021-01-01 03:40:12  negatif  "
            ],
            "text/html": [
              "\n",
              "  <div id=\"df-7dd9ac73-bae8-43d5-84f4-fe8fefb55afd\" class=\"colab-df-container\">\n",
              "    <div>\n",
              "<style scoped>\n",
              "    .dataframe tbody tr th:only-of-type {\n",
              "        vertical-align: middle;\n",
              "    }\n",
              "\n",
              "    .dataframe tbody tr th {\n",
              "        vertical-align: top;\n",
              "    }\n",
              "\n",
              "    .dataframe thead th {\n",
              "        text-align: right;\n",
              "    }\n",
              "</style>\n",
              "<table border=\"1\" class=\"dataframe\">\n",
              "  <thead>\n",
              "    <tr style=\"text-align: right;\">\n",
              "      <th></th>\n",
              "      <th>tweet_id</th>\n",
              "      <th>tweet</th>\n",
              "      <th>date</th>\n",
              "      <th>label</th>\n",
              "    </tr>\n",
              "  </thead>\n",
              "  <tbody>\n",
              "    <tr>\n",
              "      <th>0</th>\n",
              "      <td>1344798002490314752</td>\n",
              "      <td>kardesim (12) sevdigi cocuga 00:00 da ilan-i a...</td>\n",
              "      <td>2021-01-01 03:10:03</td>\n",
              "      <td>pozitif</td>\n",
              "    </tr>\n",
              "    <tr>\n",
              "      <th>1</th>\n",
              "      <td>1344799527673470977</td>\n",
              "      <td>bu yılbaşı da saat tam 00:00'da swni seviyorum...</td>\n",
              "      <td>2021-01-01 03:16:07</td>\n",
              "      <td>negatif</td>\n",
              "    </tr>\n",
              "    <tr>\n",
              "      <th>2</th>\n",
              "      <td>1344799907719348226</td>\n",
              "      <td>tam 00.00da naptınız ben her yıl tam bu vakit ...</td>\n",
              "      <td>2021-01-01 03:17:37</td>\n",
              "      <td>pozitif</td>\n",
              "    </tr>\n",
              "    <tr>\n",
              "      <th>3</th>\n",
              "      <td>1344800782802165762</td>\n",
              "      <td>00:00'da havai fişek gösterisi yapıldı tam dib...</td>\n",
              "      <td>2021-01-01 03:21:06</td>\n",
              "      <td>negatif</td>\n",
              "    </tr>\n",
              "    <tr>\n",
              "      <th>4</th>\n",
              "      <td>1344805589990453249</td>\n",
              "      <td>31 aralık saat 00.00 da yeni yılımızı kutlayan...</td>\n",
              "      <td>2021-01-01 03:40:12</td>\n",
              "      <td>negatif</td>\n",
              "    </tr>\n",
              "  </tbody>\n",
              "</table>\n",
              "</div>\n",
              "    <div class=\"colab-df-buttons\">\n",
              "\n",
              "  <div class=\"colab-df-container\">\n",
              "    <button class=\"colab-df-convert\" onclick=\"convertToInteractive('df-7dd9ac73-bae8-43d5-84f4-fe8fefb55afd')\"\n",
              "            title=\"Convert this dataframe to an interactive table.\"\n",
              "            style=\"display:none;\">\n",
              "\n",
              "  <svg xmlns=\"http://www.w3.org/2000/svg\" height=\"24px\" viewBox=\"0 -960 960 960\">\n",
              "    <path d=\"M120-120v-720h720v720H120Zm60-500h600v-160H180v160Zm220 220h160v-160H400v160Zm0 220h160v-160H400v160ZM180-400h160v-160H180v160Zm440 0h160v-160H620v160ZM180-180h160v-160H180v160Zm440 0h160v-160H620v160Z\"/>\n",
              "  </svg>\n",
              "    </button>\n",
              "\n",
              "  <style>\n",
              "    .colab-df-container {\n",
              "      display:flex;\n",
              "      gap: 12px;\n",
              "    }\n",
              "\n",
              "    .colab-df-convert {\n",
              "      background-color: #E8F0FE;\n",
              "      border: none;\n",
              "      border-radius: 50%;\n",
              "      cursor: pointer;\n",
              "      display: none;\n",
              "      fill: #1967D2;\n",
              "      height: 32px;\n",
              "      padding: 0 0 0 0;\n",
              "      width: 32px;\n",
              "    }\n",
              "\n",
              "    .colab-df-convert:hover {\n",
              "      background-color: #E2EBFA;\n",
              "      box-shadow: 0px 1px 2px rgba(60, 64, 67, 0.3), 0px 1px 3px 1px rgba(60, 64, 67, 0.15);\n",
              "      fill: #174EA6;\n",
              "    }\n",
              "\n",
              "    .colab-df-buttons div {\n",
              "      margin-bottom: 4px;\n",
              "    }\n",
              "\n",
              "    [theme=dark] .colab-df-convert {\n",
              "      background-color: #3B4455;\n",
              "      fill: #D2E3FC;\n",
              "    }\n",
              "\n",
              "    [theme=dark] .colab-df-convert:hover {\n",
              "      background-color: #434B5C;\n",
              "      box-shadow: 0px 1px 3px 1px rgba(0, 0, 0, 0.15);\n",
              "      filter: drop-shadow(0px 1px 2px rgba(0, 0, 0, 0.3));\n",
              "      fill: #FFFFFF;\n",
              "    }\n",
              "  </style>\n",
              "\n",
              "    <script>\n",
              "      const buttonEl =\n",
              "        document.querySelector('#df-7dd9ac73-bae8-43d5-84f4-fe8fefb55afd button.colab-df-convert');\n",
              "      buttonEl.style.display =\n",
              "        google.colab.kernel.accessAllowed ? 'block' : 'none';\n",
              "\n",
              "      async function convertToInteractive(key) {\n",
              "        const element = document.querySelector('#df-7dd9ac73-bae8-43d5-84f4-fe8fefb55afd');\n",
              "        const dataTable =\n",
              "          await google.colab.kernel.invokeFunction('convertToInteractive',\n",
              "                                                    [key], {});\n",
              "        if (!dataTable) return;\n",
              "\n",
              "        const docLinkHtml = 'Like what you see? Visit the ' +\n",
              "          '<a target=\"_blank\" href=https://colab.research.google.com/notebooks/data_table.ipynb>data table notebook</a>'\n",
              "          + ' to learn more about interactive tables.';\n",
              "        element.innerHTML = '';\n",
              "        dataTable['output_type'] = 'display_data';\n",
              "        await google.colab.output.renderOutput(dataTable, element);\n",
              "        const docLink = document.createElement('div');\n",
              "        docLink.innerHTML = docLinkHtml;\n",
              "        element.appendChild(docLink);\n",
              "      }\n",
              "    </script>\n",
              "  </div>\n",
              "\n",
              "\n",
              "<div id=\"df-d8cb511b-330e-49d1-9dec-14ae84c1b502\">\n",
              "  <button class=\"colab-df-quickchart\" onclick=\"quickchart('df-d8cb511b-330e-49d1-9dec-14ae84c1b502')\"\n",
              "            title=\"Suggest charts\"\n",
              "            style=\"display:none;\">\n",
              "\n",
              "<svg xmlns=\"http://www.w3.org/2000/svg\" height=\"24px\"viewBox=\"0 0 24 24\"\n",
              "     width=\"24px\">\n",
              "    <g>\n",
              "        <path d=\"M19 3H5c-1.1 0-2 .9-2 2v14c0 1.1.9 2 2 2h14c1.1 0 2-.9 2-2V5c0-1.1-.9-2-2-2zM9 17H7v-7h2v7zm4 0h-2V7h2v10zm4 0h-2v-4h2v4z\"/>\n",
              "    </g>\n",
              "</svg>\n",
              "  </button>\n",
              "\n",
              "<style>\n",
              "  .colab-df-quickchart {\n",
              "      --bg-color: #E8F0FE;\n",
              "      --fill-color: #1967D2;\n",
              "      --hover-bg-color: #E2EBFA;\n",
              "      --hover-fill-color: #174EA6;\n",
              "      --disabled-fill-color: #AAA;\n",
              "      --disabled-bg-color: #DDD;\n",
              "  }\n",
              "\n",
              "  [theme=dark] .colab-df-quickchart {\n",
              "      --bg-color: #3B4455;\n",
              "      --fill-color: #D2E3FC;\n",
              "      --hover-bg-color: #434B5C;\n",
              "      --hover-fill-color: #FFFFFF;\n",
              "      --disabled-bg-color: #3B4455;\n",
              "      --disabled-fill-color: #666;\n",
              "  }\n",
              "\n",
              "  .colab-df-quickchart {\n",
              "    background-color: var(--bg-color);\n",
              "    border: none;\n",
              "    border-radius: 50%;\n",
              "    cursor: pointer;\n",
              "    display: none;\n",
              "    fill: var(--fill-color);\n",
              "    height: 32px;\n",
              "    padding: 0;\n",
              "    width: 32px;\n",
              "  }\n",
              "\n",
              "  .colab-df-quickchart:hover {\n",
              "    background-color: var(--hover-bg-color);\n",
              "    box-shadow: 0 1px 2px rgba(60, 64, 67, 0.3), 0 1px 3px 1px rgba(60, 64, 67, 0.15);\n",
              "    fill: var(--button-hover-fill-color);\n",
              "  }\n",
              "\n",
              "  .colab-df-quickchart-complete:disabled,\n",
              "  .colab-df-quickchart-complete:disabled:hover {\n",
              "    background-color: var(--disabled-bg-color);\n",
              "    fill: var(--disabled-fill-color);\n",
              "    box-shadow: none;\n",
              "  }\n",
              "\n",
              "  .colab-df-spinner {\n",
              "    border: 2px solid var(--fill-color);\n",
              "    border-color: transparent;\n",
              "    border-bottom-color: var(--fill-color);\n",
              "    animation:\n",
              "      spin 1s steps(1) infinite;\n",
              "  }\n",
              "\n",
              "  @keyframes spin {\n",
              "    0% {\n",
              "      border-color: transparent;\n",
              "      border-bottom-color: var(--fill-color);\n",
              "      border-left-color: var(--fill-color);\n",
              "    }\n",
              "    20% {\n",
              "      border-color: transparent;\n",
              "      border-left-color: var(--fill-color);\n",
              "      border-top-color: var(--fill-color);\n",
              "    }\n",
              "    30% {\n",
              "      border-color: transparent;\n",
              "      border-left-color: var(--fill-color);\n",
              "      border-top-color: var(--fill-color);\n",
              "      border-right-color: var(--fill-color);\n",
              "    }\n",
              "    40% {\n",
              "      border-color: transparent;\n",
              "      border-right-color: var(--fill-color);\n",
              "      border-top-color: var(--fill-color);\n",
              "    }\n",
              "    60% {\n",
              "      border-color: transparent;\n",
              "      border-right-color: var(--fill-color);\n",
              "    }\n",
              "    80% {\n",
              "      border-color: transparent;\n",
              "      border-right-color: var(--fill-color);\n",
              "      border-bottom-color: var(--fill-color);\n",
              "    }\n",
              "    90% {\n",
              "      border-color: transparent;\n",
              "      border-bottom-color: var(--fill-color);\n",
              "    }\n",
              "  }\n",
              "</style>\n",
              "\n",
              "  <script>\n",
              "    async function quickchart(key) {\n",
              "      const quickchartButtonEl =\n",
              "        document.querySelector('#' + key + ' button');\n",
              "      quickchartButtonEl.disabled = true;  // To prevent multiple clicks.\n",
              "      quickchartButtonEl.classList.add('colab-df-spinner');\n",
              "      try {\n",
              "        const charts = await google.colab.kernel.invokeFunction(\n",
              "            'suggestCharts', [key], {});\n",
              "      } catch (error) {\n",
              "        console.error('Error during call to suggestCharts:', error);\n",
              "      }\n",
              "      quickchartButtonEl.classList.remove('colab-df-spinner');\n",
              "      quickchartButtonEl.classList.add('colab-df-quickchart-complete');\n",
              "    }\n",
              "    (() => {\n",
              "      let quickchartButtonEl =\n",
              "        document.querySelector('#df-d8cb511b-330e-49d1-9dec-14ae84c1b502 button');\n",
              "      quickchartButtonEl.style.display =\n",
              "        google.colab.kernel.accessAllowed ? 'block' : 'none';\n",
              "    })();\n",
              "  </script>\n",
              "</div>\n",
              "\n",
              "    </div>\n",
              "  </div>\n"
            ],
            "application/vnd.google.colaboratory.intrinsic+json": {
              "type": "dataframe",
              "variable_name": "new_tweets",
              "summary": "{\n  \"name\": \"new_tweets\",\n  \"rows\": 13272,\n  \"fields\": [\n    {\n      \"column\": \"tweet_id\",\n      \"properties\": {\n        \"dtype\": \"number\",\n        \"std\": 39311622585856480,\n        \"min\": 1344798002490314752,\n        \"max\": 1476703095837110276,\n        \"num_unique_values\": 13272,\n        \"samples\": [\n          1383787919844859910,\n          1428099429849092101,\n          1380210791069147136\n        ],\n        \"semantic_type\": \"\",\n        \"description\": \"\"\n      }\n    },\n    {\n      \"column\": \"tweet\",\n      \"properties\": {\n        \"dtype\": \"string\",\n        \"num_unique_values\": 13272,\n        \"samples\": [\n          \"mutsuz son ihtimali varm\\u0131\\u015f san\\u0131r\\u0131m reyyan\\u0131n g\\u00f6rd\\u00fcg\\u00fc r\\u00fcya falan da vard\\u0131 bi bu eksikti zaten sanki cok mutlu olmuslar gibi mutsuz bitirinde tam olsun\",\n          \"00.00 t\\u00fcm sevgili mutuallerime asigimda&lt;3\",\n          \"babam camdaki k\\u0131z\\u0131 a\\u00e7m\\u0131\\u015f \\ud83d\\ude11 ama birazdan \\u00e7ukurovay\\u0131 a\\u00e7ar \\u00e7\\u00fcnk\\u00fc babaannem de bizde zaten annemde seviyor onu ama saat 21.00'de md a\\u00e7\\u0131l\\u0131yor \\u00e7\\u00fcnk\\u00fc kumanda bendeeee\\ud83d\\ude02 reyting cihaz\\u0131m\\u0131z olsa 3 diziye reyting giderdi galiba \\ud83d\\ude02\"\n        ],\n        \"semantic_type\": \"\",\n        \"description\": \"\"\n      }\n    },\n    {\n      \"column\": \"date\",\n      \"properties\": {\n        \"dtype\": \"date\",\n        \"min\": \"2021-01-01 03:10:03\",\n        \"max\": \"2021-12-31 02:53:48\",\n        \"num_unique_values\": 13253,\n        \"samples\": [\n          \"2021-01-17 00:59:00\",\n          \"2021-04-06 19:52:58\",\n          \"2021-10-11 04:55:39\"\n        ],\n        \"semantic_type\": \"\",\n        \"description\": \"\"\n      }\n    },\n    {\n      \"column\": \"label\",\n      \"properties\": {\n        \"dtype\": \"category\",\n        \"num_unique_values\": 3,\n        \"samples\": [\n          \"pozitif\",\n          \"negatif\",\n          \"n\\u00f6tr\"\n        ],\n        \"semantic_type\": \"\",\n        \"description\": \"\"\n      }\n    }\n  ]\n}"
            }
          },
          "metadata": {},
          "execution_count": 40
        }
      ]
    },
    {
      "cell_type": "markdown",
      "source": [
        "Bu tabloda, tweet'lerin tarih ve saat bilgileriyle birlikte, **mevsim**, **gün** ve **4 saatlik periyot** gibi kategorilere ayrıldığını görüyoruz. Örneğin:\n",
        "\n",
        "- **İlk tweet**, **25 Aralık 2022** tarihinde gece **00:41**'de atılmış ve **kış** mevsiminde, **Pazar** günü, **22:00-02:00** zaman aralığında yer alıyor.\n",
        "- **İkinci tweet**, **16 Haziran 2022** tarihinde yaz mevsiminde atılmış ve yine gece yarısı **00:00**'da, **Perşembe** günü, **22:00-02:00** periyoduna denk geliyor.\n",
        "\n",
        "Bu veriler, tweet'lerin hangi gün ve zaman diliminde yoğunlaştığını analiz etmek için önemli ipuçları sunuyor. Özellikle gece geç saatlerde ve haftanın son günlerinde yoğunlaşan bir paylaşım eğilimi görülüyor.\n"
      ],
      "metadata": {
        "id": "tnMfaPeoG7zg"
      }
    },
    {
      "cell_type": "markdown",
      "source": [
        "## **Görev 3: Tweetlerde Duygu Tahmini**\n",
        "\n",
        "Bu aşamada, tweetlerdeki metinleri kullanarak duygu tahmini yapacağız. Duygu tahmini, tweetlerin pozitif, negatif veya nötr gibi duygusal sınıflarını belirlememize yardımcı olacak."
      ],
      "metadata": {
        "id": "la8iQkH5HP9h"
      }
    },
    {
      "cell_type": "markdown",
      "source": [
        "### Adım 1: 'TF-IDFVectorizer' ve Logistic Regression Modeli ile 2021 Yılı Tweetleri İçin Tahmin\n",
        "\n",
        "Bu adımda, 2021 yılına ait tweetler üzerinde duygu tahmini yapacağız. Bunun için şu işlemleri gerçekleştireceğiz:\n",
        "\n",
        "1. **TF-IDF ile Özellik Çıkarımı**: Tweet verilerini metin temelli bir formdan sayısal vektörlere dönüştürmek için TF-IDF (Term Frequency-Inverse Document Frequency) kullanacağız. Bu yöntem, her bir kelimenin ağırlığını hesaplayarak tweet metinlerinden özellik çıkaracak.\n",
        "   \n",
        "2. **Logistic Regression Modeli ile Tahmin**: TF-IDF özellikleri çıkarıldıktan sonra, Logistic Regression modelini kullanarak tweetlerdeki duygusal etiketlerin tahminini yapacağız.\n",
        "\n",
        "3. **Sonuçların Değerlendirilmesi**: Modelin doğruluğu, precision, recall gibi metriklerle değerlendirilerek 2021 yılına ait tweetler üzerindeki performansı incelenecek.\n"
      ],
      "metadata": {
        "id": "V5ZjF1T3HUxQ"
      }
    },
    {
      "cell_type": "code",
      "source": [
        "import pandas as pd\n",
        "from sklearn.model_selection import train_test_split\n",
        "from sklearn.feature_extraction.text import TfidfVectorizer\n",
        "from sklearn.linear_model import LogisticRegression\n",
        "from sklearn.metrics import accuracy_score, classification_report\n",
        "\n",
        "# 1. Gerekli sütunları seçin\n",
        "X = new_tweets['tweet']  # Tweet metinleri\n",
        "y = new_tweets['label']  # Duygu etiketleri\n",
        "\n",
        "# 2. Veriyi eğitim ve test setlerine ayırın\n",
        "X_train, X_test, y_train, y_test = train_test_split(X, y, test_size=0.2, random_state=42)\n",
        "\n",
        "# 3. TF-IDF vektörleştirici oluşturun ve veriyi dönüştürün\n",
        "tfidf_vectorizer = TfidfVectorizer()\n",
        "X_train_tfidf = tfidf_vectorizer.fit_transform(X_train)\n",
        "X_test_tfidf = tfidf_vectorizer.transform(X_test)\n",
        "\n",
        "# 4. Logistic Regression modelini oluşturun ve eğitin\n",
        "model = LogisticRegression()\n",
        "model.fit(X_train_tfidf, y_train)\n",
        "\n",
        "# 5. Test seti üzerinde tahmin yapın\n",
        "y_pred = model.predict(X_test_tfidf)\n",
        "\n",
        "# 6. Sonuçları değerlendirin\n",
        "accuracy = accuracy_score(y_test, y_pred)\n",
        "report = classification_report(y_test, y_pred)\n",
        "\n",
        "print(f'Doğruluk (Accuracy): {accuracy:.4f}')\n",
        "print('Sınıflandırma Raporu:\\n', report)\n"
      ],
      "metadata": {
        "colab": {
          "base_uri": "https://localhost:8080/"
        },
        "id": "E1uHwN0uHtzN",
        "outputId": "32461bf8-8e89-4518-b6e3-fb76307bd9e7"
      },
      "execution_count": 43,
      "outputs": [
        {
          "output_type": "stream",
          "name": "stdout",
          "text": [
            "Doğruluk (Accuracy): 0.8056\n",
            "Sınıflandırma Raporu:\n",
            "               precision    recall  f1-score   support\n",
            "\n",
            "     negatif       0.79      0.85      0.82       927\n",
            "        nötr       0.83      0.76      0.79       848\n",
            "     pozitif       0.80      0.80      0.80       880\n",
            "\n",
            "    accuracy                           0.81      2655\n",
            "   macro avg       0.81      0.80      0.80      2655\n",
            "weighted avg       0.81      0.81      0.81      2655\n",
            "\n"
          ]
        }
      ]
    },
    {
      "cell_type": "markdown",
      "source": [
        "# Model Değerlendirme Sonuçları\n",
        "\n",
        "Yapmış olduğumuz duygu analizi modelinin sonuçları aşağıda sunulmuştur. Modelin doğruluğu %80.56 olarak belirlenmiştir. Bu sonuç, modelimizin genel performansının iyi olduğunu göstermektedir.\n",
        "\n",
        "## Sınıflandırma Raporu\n",
        "\n",
        "Aşağıda, her bir duygu sınıfı için precision, recall ve f1-score değerleri verilmiştir:\n",
        "\n",
        "| Duygu Sınıfı | Precision | Recall | F1-Score | Destek |\n",
        "|--------------|-----------|--------|----------|--------|\n",
        "| Negatif      | 0.79      | 0.85   | 0.82     | 927    |\n",
        "| Nötr         | 0.83      | 0.76   | 0.79     | 848    |\n",
        "| Pozitif      | 0.80      | 0.80   | 0.80     | 880    |\n",
        "\n",
        "### Genel Değerlendirme\n",
        "\n",
        "- **Negatif sınıf** için precision %79 iken, recall %85'tir. Bu, modelimizin negatif tweetleri doğru bir şekilde tanımlamada oldukça başarılı olduğunu gösteriyor. F1 skoru ise %82 ile iyi bir denge sağlamaktadır.\n",
        "  \n",
        "- **Nötr sınıf** için precision %83, recall %76 olarak bulunmuştur. Bu durumda, model nötr tweetleri tanımada biraz daha az başarılıdır, ancak yine de oldukça iyi bir performans sergilemektedir. F1 skoru %79 ile tatmin edici bir sonuç sunmaktadır.\n",
        "\n",
        "- **Pozitif sınıf** için precision ve recall değerleri %80 seviyesindedir. Bu da modelin pozitif tweetleri sınıflandırmada dengeli bir performansa sahip olduğunu göstermektedir.\n",
        "\n",
        "### Genel Sonuç\n",
        "\n",
        "Modelin doğruluğu ve sınıflandırma raporuna dayanarak, genel performansın tatmin edici olduğunu söyleyebilirim. Her üç sınıf için de yüksek precision ve recall değerleri elde edilmiş, bu da modelin duygu analizi yapma yeteneğinin sağlam olduğunu göstermektedir. Bu sonuçlar, gelecekteki model iyileştirmeleri ve hiperparametre optimizasyonu için iyi bir temel oluşturuyor.\n"
      ],
      "metadata": {
        "id": "h_yzioPJJLIJ"
      }
    },
    {
      "cell_type": "markdown",
      "source": [
        "## Adım 2: 'label' Adlı Bir Değişken Oluşturma ve Tahminleri Kaydetme\n",
        "\n",
        "Bu adımda, modelimizden aldığımız tahmin sonuçlarını 'label' adlı bir değişken altında kaydediyoruz. Bu, tahminlerimizi düzenlemek ve analiz etmek için kullanışlı olacaktır. Aşağıdaki adımları takip ediyoruz:\n",
        "\n",
        "1. **Tahminlerin Alınması**: Modelimizi test verisi üzerinde çalıştırarak tahminleri elde ediyoruz.\n",
        "2. **Yeni Bir DataFrame Oluşturma**: Tahminleri içeren yeni bir DataFrame oluşturarak, her bir tweet için tahmin edilen duygu etiketlerini 'label' sütununa ekliyoruz.\n"
      ],
      "metadata": {
        "id": "_G7JrBZaJ8oi"
      }
    },
    {
      "cell_type": "code",
      "source": [
        "# 'label1' adında yeni bir sütun oluşturun ve tahminleri atayın\n",
        "new_tweets['label1'] = model.predict(tfidf_vectorizer.transform(new_tweets['tweet']))\n",
        "\n",
        "# Tahminlerin ilk 5 gözlemini görüntüleme\n",
        "print(new_tweets[['tweet', 'label', 'label1']].head(15))"
      ],
      "metadata": {
        "colab": {
          "base_uri": "https://localhost:8080/"
        },
        "id": "5KwWB1_sJ9ei",
        "outputId": "50e32c97-d792-4393-e1ee-ee06686b76cd"
      },
      "execution_count": 51,
      "outputs": [
        {
          "output_type": "stream",
          "name": "stdout",
          "text": [
            "                                                tweet    label   label1\n",
            "0   kardesim (12) sevdigi cocuga 00:00 da ilan-i a...  pozitif  pozitif\n",
            "1   bu yılbaşı da saat tam 00:00'da swni seviyorum...  negatif  negatif\n",
            "2   tam 00.00da naptınız ben her yıl tam bu vakit ...  pozitif  pozitif\n",
            "3   00:00'da havai fişek gösterisi yapıldı tam dib...  negatif  negatif\n",
            "4   31 aralık saat 00.00 da yeni yılımızı kutlayan...  negatif  negatif\n",
            "5   saat 23:00 olmadan sızmışım.  bütün senenin yo...     nötr     nötr\n",
            "6   yalnızlıktan ve sıkıntıdan şimdide kitaplara s...  pozitif  pozitif\n",
            "7   askerde 9da yat emri alıp uyuyup gece tam 00.0...     nötr     nötr\n",
            "8   dertlerimi yazıyorum buraya, herkes beğeniyor,...  negatif  negatif\n",
            "9   minho tam 00.00'da bize mutlu yıllar demiş ve ...  pozitif  pozitif\n",
            "10  sabah uyandım ve insta storylerini izlemeye ba...  pozitif  pozitif\n",
            "11  aga uyumuşum beklemedim 00.00'ı lsqwdkeöakwösj...     nötr     nötr\n",
            "12  özel günlerde tam 00.00 olunca aranmayı aramay...  negatif  negatif\n",
            "13  dün herkes gerçekten hazırlanıp süslenmiş kutl...     nötr     nötr\n",
            "14  böyle kepaze bir uyanış yok. saat 08:00, dışar...  pozitif     nötr\n"
          ]
        }
      ]
    },
    {
      "cell_type": "code",
      "source": [
        "# Doğru tahminlerin sayısı\n",
        "correct_predictions = (new_tweets['label'] == new_tweets['label1']).sum()\n",
        "\n",
        "# Yanlış tahminlerin sayısı\n",
        "incorrect_predictions = (new_tweets['label'] != new_tweets['label1']).sum()\n",
        "\n",
        "print(f'Doğru Tahminler: {correct_predictions}')\n",
        "print(f'Yanlış Tahminler: {incorrect_predictions}')\n"
      ],
      "metadata": {
        "colab": {
          "base_uri": "https://localhost:8080/"
        },
        "id": "ocngEYDRjZ_q",
        "outputId": "cf281218-6f8a-43da-8d77-bbc365b52b1c"
      },
      "execution_count": 52,
      "outputs": [
        {
          "output_type": "stream",
          "name": "stdout",
          "text": [
            "Doğru Tahminler: 11937\n",
            "Yanlış Tahminler: 1335\n"
          ]
        }
      ]
    },
    {
      "cell_type": "markdown",
      "source": [
        "### Tahmin Sonuçları\n",
        "\n",
        "Aşağıda modelin tahmin sonuçları ve gerçek etiketlerle birlikte ilk 15 gözlem yer almaktadır:\n",
        "\n",
        "|    | Tweet                                                                 | Gerçek Etiket (label) | Tahmin Edilen Etiket (label1) |\n",
        "|----|-----------------------------------------------------------------------|------------------------|---------------------------------|\n",
        "| 0  | kardeşim (12) sevdigi çocuğa 00:00 da ilan-i aşk etti.              | pozitif                | pozitif                         |\n",
        "| 1  | bu yılbaşı da saat tam 00:00'da swni seviyorum.                     | negatif                | negatif                         |\n",
        "| 2  | tam 00.00da naptınız ben her yıl tam bu vakit...                    | pozitif                | pozitif                         |\n",
        "| 3  | 00:00'da havai fişek gösterisi yapıldı tam dibinde.                 | negatif                | negatif                         |\n",
        "| 4  | 31 aralık saat 00.00 da yeni yılımızı kutlayan herkes...             | negatif                | negatif                         |\n",
        "| 5  | saat 23:00 olmadan sızmışım.  bütün senenin yorulmasını...          | nötr                   | nötr                            |\n",
        "| 6  | yalnızlıktan ve sıkıntıdan şimdide kitaplara sarmışım.               | pozitif                | pozitif                         |\n",
        "| 7  | askerde 9da yat emri alıp uyuyup gece tam 00.00...                  | nötr                   | nötr                            |\n",
        "| 8  | dertlerimi yazıyorum buraya, herkes beğeniyor, beni sevsin.         | negatif                | negatif                         |\n",
        "| 9  | minho tam 00.00'da bize mutlu yıllar demiş ve kutlamış.              | pozitif                | pozitif                         |\n",
        "| 10 | sabah uyandım ve insta storylerini izlemeye başladım.                | pozitif                | pozitif                         |\n",
        "| 11 | aga uyumuşum beklemedim 00.00'ı lsqwdkeöakwösj...                    | nötr                   | nötr                            |\n",
        "| 12 | özel günlerde tam 00.00 olunca aranmayı aramıyorum.                 | negatif                | negatif                         |\n",
        "| 13 | dün herkes gerçekten hazırlanıp süslenmiş kutlamış...                | nötr                   | nötr                            |\n",
        "| 14 | böyle kepaze bir uyanış yok. saat 08:00, dışarıda fırtına.          | pozitif                | nötr                            |\n",
        "\n",
        "### Değerlendirme\n",
        "Görüldüğü gibi, model bazı tahminlerde oldukça doğru sonuçlar üretirken, bazı durumlarda (örneğin, 14. gözlem) hatalı tahmin yapmıştır. Bu, modelin belirli durumlarda daha fazla iyileştirme gerektirebileceğini göstermektedir.\n",
        "\n",
        "# Tahmin Sonuçlarının Değerlendirilmesi\n",
        "\n",
        "Yapılan analiz sonucunda `label` ve `label1` değişkenleri arasındaki doğru ve yanlış tahminlerin sayıları şu şekildedir:\n",
        "\n",
        "- **Doğru Tahminler:** 11937\n",
        "- **Yanlış Tahminler:** 1335\n",
        "\n",
        "Bu sonuçlara dayanarak, modelin genel başarısını değerlendirebiliriz. Doğru tahminlerin sayısının yüksek olması, modelin büyük oranda doğru sınıflandırmalar yaptığını göstermektedir. Yanlış tahminlerin sayısının ise 1335 olması, modelin iyileştirilmesi gereken alanlar olduğunu göstermektedir.\n",
        "\n",
        "## Doğruluk Oranı Hesaplama\n",
        "\n",
        "Toplam tahmin sayısını ve doğruluk oranını hesaplamak için aşağıdaki formülü kullanabiliriz:\n",
        "\n",
        "Doğruluk Oranı = (Doğru Tahminler) / (Toplam Tahminler) = 11937 / (11937 + 1335) ≈ 0.899\n",
        "\n",
        "***Bu durumda, modelin doğruluk oranı yaklaşık %89.9'dur.*** Bu da modelin genel olarak iyi bir performans sergilediğini göstermektedir. Ancak, yanlış tahmin sayısını azaltmak için modelin geliştirilmesi, daha fazla verinin eklenmesi veya farklı modelleme tekniklerinin uygulanması düşünülebilir.\n",
        "\n"
      ],
      "metadata": {
        "id": "HdW04oSji9db"
      }
    },
    {
      "cell_type": "code",
      "source": [
        "# Hatalı tahminlerin detaylı analizi\n",
        "errors = new_tweets[new_tweets['label'] != new_tweets['label1']]\n",
        "print(errors[['tweet', 'label', 'label1']].head(10))"
      ],
      "metadata": {
        "colab": {
          "base_uri": "https://localhost:8080/"
        },
        "id": "S58lqy93jftB",
        "outputId": "7ee1069a-29ba-4ae2-e476-62c519dfe96c"
      },
      "execution_count": 57,
      "outputs": [
        {
          "output_type": "stream",
          "name": "stdout",
          "text": [
            "                                                tweet    label   label1\n",
            "14  böyle kepaze bir uyanış yok. saat 08:00, dışar...  pozitif     nötr\n",
            "25  ufacık dahi bir umutla bile 00.00 da elimde te...     nötr  negatif\n",
            "29  00.00' da sevinip \\n00.02' de eski halimize dö...  negatif  pozitif\n",
            "40  kızmayı bıraktığım gün unutacağım diye korkuyo...     nötr  negatif\n",
            "48  saat tam 00.00 da herkesin mesajı dün olarak k...     nötr  negatif\n",
            "54  sevgili öğrencilerimiz 02.01.2021 cumartesi gü...     nötr  pozitif\n",
            "61                                     korkuyormuş :)     nötr  pozitif\n",
            "69             ben seni hep gelicekmiş gibi sevdim...     nötr  negatif\n",
            "73                        beni sevmiyormuş piçe bak 🙄  negatif     nötr\n",
            "76  uzun zamandır olmasını beklediğim şeyler bi gü...     nötr  negatif\n"
          ]
        }
      ]
    },
    {
      "cell_type": "markdown",
      "source": [
        "### Adım 3: İşlemlerin Fonksiyonlaştırılması\n",
        "\n",
        "Bu adımda, yapılan işlemleri daha düzenli ve tekrar kullanılabilir hale getirmek için fonksiyonlaştıracağız.\n"
      ],
      "metadata": {
        "id": "XxYq_3EtLtwU"
      }
    },
    {
      "cell_type": "code",
      "source": [
        "import pandas as pd\n",
        "from sklearn.model_selection import train_test_split\n",
        "from sklearn.feature_extraction.text import TfidfVectorizer\n",
        "from sklearn.linear_model import LogisticRegression\n",
        "from sklearn.metrics import accuracy_score, classification_report\n",
        "\n",
        "def load_data(data):\n",
        "    \"\"\"Tweet verilerini yükler.\"\"\"\n",
        "    return data\n",
        "\n",
        "def preprocess_data(df):\n",
        "    \"\"\"Veri ön işleme adımları burada yapılabilir.\"\"\"\n",
        "    # Örneğin: Temizlik, küçük harfe çevirme, stop kelimeleri kaldırma vb.\n",
        "    return df\n",
        "\n",
        "def create_tfidf(X_train, X_test):\n",
        "    \"\"\"TF-IDF vektörleştirici oluşturur ve veriyi dönüştürür.\"\"\"\n",
        "    tfidf_vectorizer = TfidfVectorizer()\n",
        "    X_train_tfidf = tfidf_vectorizer.fit_transform(X_train)\n",
        "    X_test_tfidf = tfidf_vectorizer.transform(X_test)\n",
        "    return X_train_tfidf, X_test_tfidf, tfidf_vectorizer\n",
        "\n",
        "def train_model(X_train_tfidf, y_train):\n",
        "    \"\"\"Modeli eğitir.\"\"\"\n",
        "    model = LogisticRegression()\n",
        "    model.fit(X_train_tfidf, y_train)\n",
        "    return model\n",
        "\n",
        "def evaluate_model(model, X_test_tfidf, y_test):\n",
        "    \"\"\"Modeli değerlendirir ve sonuçları yazdırır.\"\"\"\n",
        "    y_pred = model.predict(X_test_tfidf)\n",
        "    accuracy = accuracy_score(y_test, y_pred)\n",
        "    report = classification_report(y_test, y_pred)\n",
        "\n",
        "    print(f'Doğruluk (Accuracy): {accuracy:.4f}')\n",
        "    print('Sınıflandırma Raporu:\\n', report)\n",
        "    return y_pred\n",
        "\n",
        "def make_predictions(model, tfidf_vectorizer, new_tweets):\n",
        "    \"\"\"Yeni veriler üzerinde tahmin yapar.\"\"\"\n",
        "    new_tweets['label1'] = model.predict(tfidf_vectorizer.transform(new_tweets['tweet']))\n",
        "    return new_tweets\n"
      ],
      "metadata": {
        "id": "wQncR1HdmLcq"
      },
      "execution_count": 58,
      "outputs": []
    },
    {
      "cell_type": "code",
      "source": [
        "def main(new_tweets):\n",
        "    \"\"\"Ana işlem akışını yöneten fonksiyon.\"\"\"\n",
        "    # 1. Veriyi yükle\n",
        "    df = load_data(new_tweets)\n",
        "\n",
        "    # 2. Veri ön işleme\n",
        "    df = preprocess_data(df)\n",
        "\n",
        "    # 3. Özellik ve hedef değişkenleri ayır\n",
        "    X = df['tweet']\n",
        "    y = df['label']\n",
        "\n",
        "    # 4. Veriyi eğitim ve test setlerine ayır\n",
        "    X_train, X_test, y_train, y_test = train_test_split(X, y, test_size=0.2, random_state=42)\n",
        "\n",
        "    # 5. TF-IDF vektörleştiriciyi oluştur\n",
        "    X_train_tfidf, X_test_tfidf, tfidf_vectorizer = create_tfidf(X_train, X_test)\n",
        "\n",
        "    # 6. Modeli eğit\n",
        "    model = train_model(X_train_tfidf, y_train)\n",
        "\n",
        "    # 7. Modeli değerlendir\n",
        "    y_pred = evaluate_model(model, X_test_tfidf, y_test)\n",
        "\n",
        "    # 8. Tahminleri yap\n",
        "    predictions_df = make_predictions(model, tfidf_vectorizer, df)\n",
        "\n",
        "    # 9. Doğru ve yanlış tahminleri say\n",
        "    correct_predictions = (predictions_df['label'] == predictions_df['label1']).sum()\n",
        "    incorrect_predictions = (predictions_df['label'] != predictions_df['label1']).sum()\n",
        "\n",
        "    print(f'Doğru Tahminler: {correct_predictions}')\n",
        "    print(f'Yanlış Tahminler: {incorrect_predictions}')\n",
        "\n",
        "# Ana fonksiyonu çağırma\n",
        "if __name__ == \"__main__\":\n",
        "    main(new_tweets)  # new_tweets, verilerinizi içeren DataFrame olmalı\n"
      ],
      "metadata": {
        "colab": {
          "base_uri": "https://localhost:8080/"
        },
        "id": "nNSmKgEKmPa7",
        "outputId": "448b0972-5086-488b-c60d-5076d5c3b50a"
      },
      "execution_count": 59,
      "outputs": [
        {
          "output_type": "stream",
          "name": "stdout",
          "text": [
            "Doğruluk (Accuracy): 0.8056\n",
            "Sınıflandırma Raporu:\n",
            "               precision    recall  f1-score   support\n",
            "\n",
            "     negatif       0.79      0.85      0.82       927\n",
            "        nötr       0.83      0.76      0.79       848\n",
            "     pozitif       0.80      0.80      0.80       880\n",
            "\n",
            "    accuracy                           0.81      2655\n",
            "   macro avg       0.81      0.80      0.80      2655\n",
            "weighted avg       0.81      0.81      0.81      2655\n",
            "\n",
            "Doğru Tahminler: 11937\n",
            "Yanlış Tahminler: 1335\n"
          ]
        }
      ]
    },
    {
      "cell_type": "markdown",
      "source": [
        "# Kod Çıktıları ve Yorumlarım\n",
        "\n",
        "## Çıktılar\n",
        "\n",
        "- **Doğruluk:** **0.8056**\n",
        "- **Sınıflandırma Raporu:**\n",
        "  - **Negatif:**\n",
        "    - Precision: 0.79, Recall: 0.85, F1: 0.82\n",
        "  - **Nötr:**\n",
        "    - Precision: 0.83, Recall: 0.76, F1: 0.79\n",
        "  - **Pozitif:**\n",
        "    - Precision: 0.80, Recall: 0.80, F1: 0.80\n",
        "- **Doğru Tahminler:** **11937**\n",
        "- **Yanlış Tahminler:** **1335**\n",
        "\n",
        "\n",
        "\n",
        "## **Sonuç Olarak**\n",
        "\n",
        "**Bu modelin doğruluğu %80.56, bu da oldukça tatmin edici bir sonuç. Doğru tahmin sayısı 11937, yanlış tahmin sayısı ise 1335. Bu, modelin genel olarak iyi bir performans sergilediğini gösteriyor.**\n",
        "\n",
        "\n",
        "\n"
      ],
      "metadata": {
        "id": "cZOiE3Ucs9Ys"
      }
    }
  ]
}